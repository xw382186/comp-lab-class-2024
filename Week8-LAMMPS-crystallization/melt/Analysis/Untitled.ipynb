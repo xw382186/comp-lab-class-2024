{
 "cells": [
  {
   "cell_type": "code",
   "execution_count": 2,
   "id": "47399848-7b44-47fe-8229-f339148f562a",
   "metadata": {},
   "outputs": [
    {
     "name": "stderr",
     "output_type": "stream",
     "text": [
      "/state/partition1/job-52602992/ipykernel_3084314/2172851527.py:14: DeprecationWarning: Starting with ImageIO v3 the behavior of this function will switch to that of iio.v3.imread. To keep the current behavior (and make this warning disappear) use `import imageio.v2 as imageio` or call `imageio.v2.imread` directly.\n",
      "  images.append(imageio.imread(filepath))\n"
     ]
    },
    {
     "name": "stdout",
     "output_type": "stream",
     "text": [
      "动画已生成: /scratch/wx2237/comp-lab-class/comp-lab-class-2024/Week8-LAMMPS-crystallization/melt/animation.gif\n"
     ]
    }
   ],
   "source": [
    "import imageio\n",
    "import os\n",
    "\n",
    "# 设置正确的图片所在的文件夹路径（HPC 上的路径）\n",
    "image_folder = '/scratch/wx2237/comp-lab-class/comp-lab-class-2024/Week8-LAMMPS-crystallization/melt/'\n",
    "output_file = os.path.join(image_folder, 'animation.gif')\n",
    "\n",
    "# 获取所有jpg文件的列表并按顺序排序\n",
    "images = []\n",
    "for i in range(0, 251, 25):  # 图片编号从 000 到 250，步长为 25\n",
    "    filename = f'image.{i:03d}.jpg'\n",
    "    filepath = os.path.join(image_folder, filename)\n",
    "    if os.path.exists(filepath):\n",
    "        images.append(imageio.imread(filepath))\n",
    "\n",
    "# 生成GIF动画\n",
    "imageio.mimsave(output_file, images, fps=10)  # fps=10表示每秒10帧\n",
    "\n",
    "# 输出生成的GIF路径\n",
    "print(f'动画已生成: {output_file}')"
   ]
  }
 ],
 "metadata": {
  "kernelspec": {
   "display_name": "Python (myenv)",
   "language": "python",
   "name": "myenv"
  },
  "language_info": {
   "codemirror_mode": {
    "name": "ipython",
    "version": 3
   },
   "file_extension": ".py",
   "mimetype": "text/x-python",
   "name": "python",
   "nbconvert_exporter": "python",
   "pygments_lexer": "ipython3",
   "version": "3.9.18"
  }
 },
 "nbformat": 4,
 "nbformat_minor": 5
}
