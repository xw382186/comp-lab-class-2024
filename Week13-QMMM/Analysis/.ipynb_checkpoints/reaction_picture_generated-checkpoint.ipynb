{
 "cells": [
  {
   "cell_type": "code",
   "execution_count": 5,
   "id": "a6dceaff-d512-438a-a62b-dd0a8e9be2d9",
   "metadata": {},
   "outputs": [
    {
     "name": "stdout",
     "output_type": "stream",
     "text": [
      "Loading trajectory and topology files...\n",
      "Saving trajectory to PDB file...\n",
      "PDB trajectory successfully saved at: /scratch/wx2237/comp-lab-class/comp-lab-class-2024/Week13-QMMM/Analysis/trajectory.pdb\n",
      "Loading PDB file into PyMOL...\n",
      "Reaction before image saved at: /scratch/wx2237/comp-lab-class/comp-lab-class-2024/Week13-QMMM/Figures/reaction_before_high_res.png\n",
      "Reaction after image saved at: /scratch/wx2237/comp-lab-class/comp-lab-class-2024/Week13-QMMM/Figures/reaction_after_high_res.png\n"
     ]
    }
   ],
   "source": [
    "import os\n",
    "import mdtraj as md\n",
    "from pymol import cmd\n",
    "\n",
    "# 文件路径\n",
    "trajectory_file = \"/scratch/wx2237/comp-lab-class/comp-lab-class-2024/Week13-QMMM/Outputs/metad1_initmonitor/METADYN-pos-00.xyz.gz\"\n",
    "topology_file = \"/scratch/wx2237/comp-lab-class/comp-lab-class-2024/Week13-QMMM/Outputs/metad1_initmonitor/complex_LJ_mod.prmtop\"\n",
    "pdb_file = \"/scratch/wx2237/comp-lab-class/comp-lab-class-2024/Week13-QMMM/Analysis/trajectory.pdb\"\n",
    "output_dir = \"/scratch/wx2237/comp-lab-class/comp-lab-class-2024/Week13-QMMM/Figures\"\n",
    "\n",
    "# 确保输出目录存在\n",
    "os.makedirs(os.path.dirname(pdb_file), exist_ok=True)\n",
    "os.makedirs(output_dir, exist_ok=True)\n",
    "\n",
    "# 重新生成 PDB 文件\n",
    "try:\n",
    "    print(\"Loading trajectory and topology files...\")\n",
    "    traj = md.load(trajectory_file, top=topology_file)\n",
    "    print(\"Saving trajectory to PDB file...\")\n",
    "    traj[::10].save_pdb(pdb_file)  # 每 10 帧保存一次\n",
    "    print(f\"PDB trajectory successfully saved at: {pdb_file}\")\n",
    "except Exception as e:\n",
    "    print(f\"Error while generating PDB: {e}\")\n",
    "\n",
    "# 使用 PyMOL 生成反应前后图片\n",
    "try:\n",
    "    print(\"Loading PDB file into PyMOL...\")\n",
    "    cmd.reinitialize()  # 清除现有会话\n",
    "    cmd.load(pdb_file, \"traj\")  # 加载生成的 PDB 文件\n",
    "\n",
    "    # 设置整体显示为 cartoon\n",
    "    cmd.hide(\"everything\")\n",
    "    cmd.show(\"cartoon\", \"all\")\n",
    "\n",
    "    # 配体和附近 3 Å 的残基设置为 sticks\n",
    "    cmd.select(\"ligand\", \"resname CHA\")\n",
    "    cmd.select(\"nearby\", \"byres (ligand around 3)\")\n",
    "    cmd.show(\"sticks\", \"ligand or nearby\")\n",
    "\n",
    "    # 设置颜色：碳原子（cyan 和 magenta）和其他原子类型的颜色\n",
    "    cmd.color(\"cyan\", \"ligand and elem C\")\n",
    "    cmd.color(\"magenta\", \"nearby and elem C\")\n",
    "    cmd.color(\"red\", \"elem O\")  # 氧原子\n",
    "    cmd.color(\"blue\", \"elem N\")  # 氮原子\n",
    "    cmd.color(\"yellow\", \"elem S\")  # 硫原子\n",
    "    cmd.color(\"orange\", \"elem P\")  # 磷原子\n",
    "\n",
    "    # 放大视图（Zoom）\n",
    "    cmd.zoom(\"ligand or nearby\", buffer=2)\n",
    "\n",
    "    # 增加分辨率（DPI 和图像大小）\n",
    "    cmd.bg_color(\"white\")  # 设置背景为白色以增强对比\n",
    "    cmd.set(\"ray_trace_mode\", 1)\n",
    "    cmd.set(\"ray_opaque_background\", 0)\n",
    "\n",
    "    # 反应前截图\n",
    "    cmd.frame(1)  # 第一帧\n",
    "    cmd.ray(2400, 1800)  # 高分辨率渲染（2400x1800 像素）\n",
    "    before_img_path = os.path.join(output_dir, \"reaction_before_high_res.png\")\n",
    "    cmd.png(before_img_path, dpi=300)\n",
    "    print(f\"Reaction before image saved at: {before_img_path}\")\n",
    "\n",
    "    # 反应后截图\n",
    "    cmd.frame(cmd.count_states(\"traj\"))  # 最后一帧\n",
    "    cmd.ray(2400, 1800)  # 高分辨率渲染（2400x1800 像素）\n",
    "    after_img_path = os.path.join(output_dir, \"reaction_after_high_res.png\")\n",
    "    cmd.png(after_img_path, dpi=300)\n",
    "    print(f\"Reaction after image saved at: {after_img_path}\")\n",
    "\n",
    "except Exception as e:\n",
    "    print(f\"Error while generating images with PyMOL: {e}\")"
   ]
  }
 ],
 "metadata": {
  "kernelspec": {
   "display_name": "Python (myenv)",
   "language": "python",
   "name": "myenv"
  },
  "language_info": {
   "codemirror_mode": {
    "name": "ipython",
    "version": 3
   },
   "file_extension": ".py",
   "mimetype": "text/x-python",
   "name": "python",
   "nbconvert_exporter": "python",
   "pygments_lexer": "ipython3",
   "version": "3.9.18"
  }
 },
 "nbformat": 4,
 "nbformat_minor": 5
}
