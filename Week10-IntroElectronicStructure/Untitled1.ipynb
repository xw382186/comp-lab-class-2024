{
 "cells": [
  {
   "cell_type": "code",
   "execution_count": 131,
   "id": "d543b8fd-f3fc-46ba-9a83-3de26628706b",
   "metadata": {},
   "outputs": [],
   "source": [
    "# 导入 psi4\n",
    "import psi4"
   ]
  },
  {
   "cell_type": "code",
   "execution_count": 132,
   "id": "0bcc9cad-7a0b-4b62-b3b6-22954bb66c16",
   "metadata": {},
   "outputs": [
    {
     "data": {
      "text/plain": [
       "PosixPath('output.dat')"
      ]
     },
     "execution_count": 132,
     "metadata": {},
     "output_type": "execute_result"
    }
   ],
   "source": [
    "psi4.set_output_file('output.dat', False)"
   ]
  },
  {
   "cell_type": "code",
   "execution_count": 133,
   "id": "1dc11f57-1d15-43b8-8a3d-41d0be32570e",
   "metadata": {},
   "outputs": [
    {
     "data": {
      "text/plain": [
       "500000000"
      ]
     },
     "execution_count": 133,
     "metadata": {},
     "output_type": "execute_result"
    }
   ],
   "source": [
    "psi4.set_memory('500 MB')"
   ]
  },
  {
   "cell_type": "code",
   "execution_count": 134,
   "id": "30db3f39-d6e7-4af1-b05f-f4758947587e",
   "metadata": {},
   "outputs": [],
   "source": [
    "h2o = psi4.geometry(\"\"\"\n",
    "O\n",
    "H 1 0.96\n",
    "H 1 0.96 2 104.5\n",
    "\"\"\")"
   ]
  },
  {
   "cell_type": "code",
   "execution_count": 135,
   "id": "199fa3e9-4d74-40df-8c5e-1b48eb66c6c6",
   "metadata": {},
   "outputs": [
    {
     "name": "stdout",
     "output_type": "stream",
     "text": [
      "Computed HF energy: -76.02663273509017\n",
      "CPU times: user 291 ms, sys: 12 ms, total: 303 ms\n",
      "Wall time: 309 ms\n"
     ]
    }
   ],
   "source": [
    "%%time\n",
    "energy = psi4.energy('scf/cc-pvdz')\n",
    "print(\"Computed HF energy:\", energy)"
   ]
  },
  {
   "cell_type": "code",
   "execution_count": 136,
   "id": "400303ba-ce93-4ac9-8316-19bfa89a4b57",
   "metadata": {},
   "outputs": [],
   "source": [
    "R = 1.075  # 键长，单位为 Å\n",
    "A = 133.93  # 键角，单位为度"
   ]
  },
  {
   "cell_type": "code",
   "execution_count": 137,
   "id": "ddced4cf-99ae-4a4a-b81b-bc65a92f8e99",
   "metadata": {},
   "outputs": [],
   "source": [
    "ch2 = psi4.geometry(\"\"\"\n",
    "0 3\n",
    "C\n",
    "H 1 {0}\n",
    "H 1 {0} 2 {1}\n",
    "\"\"\".format(R, A))"
   ]
  },
  {
   "cell_type": "code",
   "execution_count": 138,
   "id": "589a25b9-2b50-445a-a1eb-b33b478f92b6",
   "metadata": {},
   "outputs": [],
   "source": [
    "psi4.set_options({'reference': 'uhf'})"
   ]
  },
  {
   "cell_type": "code",
   "execution_count": 139,
   "id": "497fc8f1-9eac-4c4c-9181-b06b0d98185c",
   "metadata": {},
   "outputs": [
    {
     "name": "stdout",
     "output_type": "stream",
     "text": [
      "Computed UHF energy for CH2: -38.925334628937065\n",
      "CPU times: user 278 ms, sys: 5.16 ms, total: 284 ms\n",
      "Wall time: 285 ms\n"
     ]
    }
   ],
   "source": [
    "%%time\n",
    "ch2_energy = psi4.energy('scf/6-31g**')\n",
    "print(\"Computed UHF energy for CH2:\", ch2_energy)"
   ]
  },
  {
   "cell_type": "code",
   "execution_count": 140,
   "id": "82e52f78-d1d8-45d0-9bf7-be2334825382",
   "metadata": {},
   "outputs": [],
   "source": [
    "psi4.set_options({'reference': 'rhf'})"
   ]
  },
  {
   "cell_type": "code",
   "execution_count": 141,
   "id": "93a888b6-c69a-4111-b58b-60f179d8a717",
   "metadata": {},
   "outputs": [
    {
     "name": "stdout",
     "output_type": "stream",
     "text": [
      "Optimizer: Optimization complete!\n",
      "Optimized HF energy for H2O: -76.0270327293733\n",
      "CPU times: user 823 ms, sys: 13.8 ms, total: 837 ms\n",
      "Wall time: 883 ms\n"
     ]
    }
   ],
   "source": [
    "%%time\n",
    "optimized_energy = psi4.optimize('scf/cc-pvdz', molecule=h2o)\n",
    "print(\"Optimized HF energy for H2O:\", optimized_energy)"
   ]
  },
  {
   "cell_type": "code",
   "execution_count": 142,
   "id": "2cfa6cdd-9b44-4a7f-a4e1-c6e820f7acf1",
   "metadata": {},
   "outputs": [
    {
     "name": "stdout",
     "output_type": "stream",
     "text": [
      "Vibrational frequencies for optimized H2O calculated.\n",
      "CPU times: user 983 ms, sys: 13.8 ms, total: 997 ms\n",
      "Wall time: 1 s\n"
     ]
    }
   ],
   "source": [
    "%%time\n",
    "scf_e, scf_wfn = psi4.frequency('scf/cc-pvdz', molecule=h2o, return_wfn=True)\n",
    "print(\"Vibrational frequencies for optimized H2O calculated.\")"
   ]
  },
  {
   "cell_type": "code",
   "execution_count": 143,
   "id": "3e87ec2d-90aa-4c98-b1c6-8ca3f66a4313",
   "metadata": {},
   "outputs": [],
   "source": [
    "dimer = psi4.geometry(\"\"\"\n",
    "0 1\n",
    "C   0.000000  -0.667578  -2.124659\n",
    "C   0.000000   0.667578  -2.124659\n",
    "H   0.923621  -1.232253  -2.126185\n",
    "H  -0.923621  -1.232253  -2.126185\n",
    "H  -0.923621   1.232253  -2.126185\n",
    "H   0.923621   1.232253  -2.126185\n",
    "--\n",
    "0 1\n",
    "C   0.000000   0.000000   2.900503\n",
    "C   0.000000   0.000000   1.693240\n",
    "H   0.000000   0.000000   0.627352\n",
    "H   0.000000   0.000000   3.963929\n",
    "units angstrom\n",
    "\"\"\")"
   ]
  },
  {
   "cell_type": "code",
   "execution_count": 144,
   "id": "932cff95-483d-41bb-9ada-dd2d0e060b42",
   "metadata": {},
   "outputs": [],
   "source": [
    "psi4.set_options({\n",
    "    'scf_type': 'df',\n",
    "    'freeze_core': True\n",
    "})"
   ]
  },
  {
   "cell_type": "code",
   "execution_count": 145,
   "id": "ee86e754-7857-4808-97ec-8b815bdd502b",
   "metadata": {},
   "outputs": [
    {
     "name": "stdout",
     "output_type": "stream",
     "text": [
      "SAPT0 interaction energy for ethylene-acetylene dimer: -0.0022355823909805178\n",
      "CPU times: user 3.71 s, sys: 193 ms, total: 3.9 s\n",
      "Wall time: 4 s\n"
     ]
    }
   ],
   "source": [
    "%%time\n",
    "sapt_energy = psi4.energy('sapt0/jun-cc-pvdz', molecule=dimer)\n",
    "print(\"SAPT0 interaction energy for ethylene-acetylene dimer:\", sapt_energy)"
   ]
  },
  {
   "cell_type": "code",
   "execution_count": 146,
   "id": "044c630b-cf07-4562-a195-9072b292da56",
   "metadata": {},
   "outputs": [],
   "source": [
    "ne2_geometry = \"\"\"\n",
    "Ne\n",
    "--\n",
    "Ne 1 {0}\n",
    "\"\"\""
   ]
  },
  {
   "cell_type": "code",
   "execution_count": 147,
   "id": "24a48857-2f4b-4004-b214-6057b8d596a9",
   "metadata": {},
   "outputs": [],
   "source": [
    "psi4.set_options({'freeze_core': True})"
   ]
  },
  {
   "cell_type": "code",
   "execution_count": 148,
   "id": "3347a356-2e2d-4c46-a250-c8f66b430cd3",
   "metadata": {},
   "outputs": [],
   "source": [
    "Rvals = [2.5, 3.0, 4.0]"
   ]
  },
  {
   "cell_type": "code",
   "execution_count": 149,
   "id": "53b13a52-5598-42eb-a1ed-84518fac70cf",
   "metadata": {},
   "outputs": [],
   "source": [
    "ecp = {}"
   ]
  },
  {
   "cell_type": "code",
   "execution_count": 150,
   "id": "88ebc4a0-244f-457d-8567-382ad43eb1bb",
   "metadata": {},
   "outputs": [],
   "source": [
    "for R in Rvals:\n",
    "    ne2 = psi4.geometry(ne2_geometry.format(R))  # 设置当前距离的几何结构\n",
    "    ecp[R] = psi4.energy('ccsd(t)/aug-cc-pvdz', bsse_type='cp', molecule=ne2)  # 计算 CP 校正能量"
   ]
  },
  {
   "cell_type": "code",
   "execution_count": 151,
   "id": "571fc000-1bdd-4da6-9e6a-f2d1d32e3559",
   "metadata": {},
   "outputs": [
    {
     "name": "stdout",
     "output_type": "stream",
     "text": [
      "CP-corrected CCSD(T)/aug-cc-pVDZ Interaction Energies\n",
      "\n",
      "          R [Ang]                 E_int [kcal/mol]       \n",
      "---------------------------------------------------------\n",
      "            2.5                        0.758605\n",
      "            3.0                        0.015968\n",
      "            4.0                        -0.016215\n"
     ]
    }
   ],
   "source": [
    "print(\"CP-corrected CCSD(T)/aug-cc-pVDZ Interaction Energies\\n\")\n",
    "print(\"          R [Ang]                 E_int [kcal/mol]       \")\n",
    "print(\"---------------------------------------------------------\")\n",
    "for R in Rvals:\n",
    "    e = ecp[R] * psi4.constants.hartree2kcalmol\n",
    "    print(\"            {:3.1f}                        {:1.6f}\".format(R, e))"
   ]
  },
  {
   "cell_type": "code",
   "execution_count": 152,
   "id": "61012bc0-b654-46b5-98e0-a388b69d6611",
   "metadata": {},
   "outputs": [],
   "source": [
    "psi4.core.print_out(\"CP-corrected CCSD(T)/aug-cc-pVDZ Interaction Energies\\n\\n\")\n",
    "psi4.core.print_out(\"          R [Ang]                 E_int [kcal/mol]       \\n\")\n",
    "psi4.core.print_out(\"---------------------------------------------------------\\n\")\n",
    "for R in Rvals:\n",
    "    e = ecp[R] * psi4.constants.hartree2kcalmol\n",
    "    psi4.core.print_out(\"            {:3.1f}                        {:1.6f}\\n\".format(R, e))"
   ]
  },
  {
   "cell_type": "code",
   "execution_count": 153,
   "id": "7b100291-4f27-4055-b04a-40a983fba43a",
   "metadata": {},
   "outputs": [
    {
     "name": "stdout",
     "output_type": "stream",
     "text": [
      "Fitted parameters - Sigma: 3.6436102681963995, Epsilon: 0.12033427583805124\n"
     ]
    },
    {
     "data": {
      "image/png": "[encoded data removed]",
      "text/plain": [
       "<Figure size 800x600 with 1 Axes>"
      ]
     },
     "metadata": {},
     "output_type": "display_data"
    }
   ],
   "source": [
    "# 导入所需库\n",
    "import psi4\n",
    "import numpy as np\n",
    "from scipy.optimize import curve_fit\n",
    "import matplotlib.pyplot as plt\n",
    "\n",
    "# 定义 Lennard-Jones 势函数\n",
    "def lj(r, sigma, eps):\n",
    "    return 4 * eps * ((sigma / r)**12 - (sigma / r)**6)\n",
    "\n",
    "# 定义 Psi4 设置\n",
    "psi4.set_options({'freeze_core': True})\n",
    "\n",
    "# 距离范围和空列表来存储能量\n",
    "Rvals = np.linspace(3.5, 6.0, 10)  # 3.5 Å 到 6.0 Å 之间的10个点\n",
    "energies = []\n",
    "\n",
    "# 氩二聚体的几何结构模板\n",
    "ar2_geometry = \"\"\"\n",
    "Ar\n",
    "--\n",
    "Ar 1 {0}\n",
    "\"\"\"\n",
    "\n",
    "# 计算每个距离下的能量\n",
    "for R in Rvals:\n",
    "    ar2 = psi4.geometry(ar2_geometry.format(R))\n",
    "    energy = psi4.energy('ccsd(t)/aug-cc-pvdz', bsse_type='cp', molecule=ar2)\n",
    "    energies.append(energy * psi4.constants.hartree2kcalmol)  # 将能量转换为 kcal/mol\n",
    "\n",
    "# 转换为 NumPy 数组，方便后续处理\n",
    "energies = np.array(energies)\n",
    "\n",
    "# 使用 curve_fit 拟合 Lennard-Jones 势，并给出初始参数估计值\n",
    "initial_guess = [4.0, -0.1]  # 初始值: sigma = 4.0 Å, epsilon = -0.1 kcal/mol\n",
    "params, _ = curve_fit(lj, Rvals, energies, p0=initial_guess)\n",
    "sigma, eps = params  # 获得拟合的 sigma 和 eps 参数\n",
    "print(f\"Fitted parameters - Sigma: {sigma}, Epsilon: {eps}\")\n",
    "\n",
    "# 生成拟合曲线的能量值\n",
    "fitted_energies = lj(Rvals, sigma, eps)\n",
    "\n",
    "# 绘制图像，连接所有点\n",
    "plt.figure(figsize=(8, 6))\n",
    "plt.plot(Rvals, energies, 'o-', label=\"Computed Energies\")      # 实心圆点表示计算的能量值并连接\n",
    "plt.plot(Rvals, fitted_energies, 'r--', label=\"Lennard-Jones Fit\")  # 虚线表示拟合的LJ曲线\n",
    "plt.xlabel(\"Distance R (Å)\", fontsize=14, fontweight='bold')\n",
    "plt.ylabel(\"Interaction Energy (kcal/mol)\", fontsize=14, fontweight='bold')\n",
    "plt.title(\"Argon Dimer Interaction Energy vs. Distance\", fontsize=16, fontweight='bold')\n",
    "plt.legend()\n",
    "plt.grid(True)\n",
    "plt.tight_layout()\n",
    "\n",
    "# 保存图像到当前文件夹\n",
    "plt.savefig(\"argon_dimer_interaction_energy.png\", dpi=300)\n",
    "plt.show()"
   ]
  },
  {
   "cell_type": "code",
   "execution_count": null,
   "id": "c41afbb3-1b2e-4cba-a8ed-43234b6a009a",
   "metadata": {},
   "outputs": [],
   "source": [
    "# 导入所需库\n",
    "import psi4\n",
    "import numpy as np\n",
    "from scipy.optimize import curve_fit\n",
    "import matplotlib.pyplot as plt\n",
    "\n",
    "# 定义 Lennard-Jones 势函数\n",
    "def lj(r, sigma, eps):\n",
    "    return 4 * eps * ((sigma / r)**12 - (sigma / r)**6)\n",
    "\n",
    "# 定义 Psi4 设置\n",
    "psi4.set_options({'freeze_core': True})\n",
    "\n",
    "# 距离范围和空列表来存储能量\n",
    "Rvals = np.linspace(3.5, 6.0, 30)  # 3.5 Å 到 6.0 Å 之间的30个点\n",
    "energies = []\n",
    "\n",
    "# 氩二聚体的几何结构模板\n",
    "ar2_geometry = \"\"\"\n",
    "Ar\n",
    "--\n",
    "Ar 1 {0}\n",
    "\"\"\"\n",
    "\n",
    "# 计算每个距离下的能量\n",
    "for R in Rvals:\n",
    "    ar2 = psi4.geometry(ar2_geometry.format(R))\n",
    "    energy = psi4.energy('ccsd(t)/aug-cc-pvdz', bsse_type='cp', molecule=ar2)\n",
    "    energies.append(energy * psi4.constants.hartree2kcalmol)  # 将能量转换为 kcal/mol\n",
    "\n",
    "# 转换为 NumPy 数组，方便后续处理\n",
    "energies = np.array(energies)\n",
    "\n",
    "# 使用 curve_fit 拟合 Lennard-Jones 势，并给出初始参数估计值\n",
    "initial_guess = [4.0, -0.1]  # 初始值: sigma = 4.0 Å, epsilon = -0.1 kcal/mol\n",
    "params, _ = curve_fit(lj, Rvals, energies, p0=initial_guess)\n",
    "sigma, eps = params  # 获得拟合的 sigma 和 eps 参数\n",
    "print(f\"Fitted parameters - Sigma: {sigma}, Epsilon: {eps}\")\n",
    "\n",
    "# 生成拟合曲线的能量值\n",
    "fitted_energies = lj(Rvals, sigma, eps)\n",
    "\n",
    "# 绘制图像，连接所有点\n",
    "plt.figure(figsize=(8, 6))\n",
    "plt.plot(Rvals, energies, 'o-', label=\"Computed Energies\")      # 实心圆点表示计算的能量值并连接\n",
    "plt.plot(Rvals, fitted_energies, 'r--', label=\"Lennard-Jones Fit\")  # 虚线表示拟合的LJ曲线\n",
    "plt.xlabel(\"Distance R (Å)\", fontsize=14, fontweight='bold')\n",
    "plt.ylabel(\"Interaction Energy (kcal/mol)\", fontsize=14, fontweight='bold')\n",
    "plt.title(\"Argon Dimer Interaction Energy vs. Distance\", fontsize=16, fontweight='bold')\n",
    "plt.legend()\n",
    "plt.grid(True)\n",
    "plt.tight_layout()\n",
    "\n",
    "# 保存图像到当前文件夹，文件名包含 \"30_points\"\n",
    "plt.savefig(\"argon_dimer_interaction_energy_30_points.png\", dpi=300)\n",
    "plt.show()"
   ]
  },
  {
   "cell_type": "code",
   "execution_count": null,
   "id": "b24eedd5-8030-420f-8b9f-181b68bc0012",
   "metadata": {},
   "outputs": [],
   "source": []
  }
 ],
 "metadata": {
  "kernelspec": {
   "display_name": "lab_env_2024",
   "language": "python",
   "name": "lab_env_2024"
  },
  "language_info": {
   "codemirror_mode": {
    "name": "ipython",
    "version": 3
   },
   "file_extension": ".py",
   "mimetype": "text/x-python",
   "name": "python",
   "nbconvert_exporter": "python",
   "pygments_lexer": "ipython3",
   "version": "3.9.12"
  }
 },
 "nbformat": 4,
 "nbformat_minor": 5
}
