{
 "cells": [
  {
   "cell_type": "code",
   "execution_count": 1,
   "id": "e9d2de36-d622-42d9-bc86-423fff1715cd",
   "metadata": {},
   "outputs": [
    {
     "name": "stdout",
     "output_type": "stream",
     "text": [
      "\n",
      "  Memory set to  11.176 GiB by Python driver.\n",
      "  Threads set to 1 by Python driver.\n"
     ]
    }
   ],
   "source": [
    "from psikit import Psikit\n",
    "\n",
    "# 初始化 Psikit 对象，启用调试模式，配置为1个线程和12GB内存\n",
    "pk = Psikit(debug=True, threads=1, memory=12)"
   ]
  },
  {
   "cell_type": "code",
   "execution_count": 2,
   "id": "51a48c06-664b-42c2-99d7-a3561a09ffdc",
   "metadata": {},
   "outputs": [
    {
     "name": "stdout",
     "output_type": "stream",
     "text": [
      "SCF Energy: -230.71227965115838\n",
      "HOMO Energy: -0.3284853236819451\n",
      "LUMO Energy: 0.14565232556878974\n"
     ]
    }
   ],
   "source": [
    "# 使用苯的 SMILES 字符串\n",
    "pk.read_from_smiles(\"c1ccccc1\")\n",
    "\n",
    "# 计算 SCF 能量\n",
    "scf_energy = pk.energy()\n",
    "print(f\"SCF Energy: {scf_energy}\")\n",
    "\n",
    "# 获取 HOMO 和 LUMO 能量\n",
    "homo_energy = pk.HOMO\n",
    "lumo_energy = pk.LUMO\n",
    "print(f\"HOMO Energy: {homo_energy}\")\n",
    "print(f\"LUMO Energy: {lumo_energy}\")"
   ]
  },
  {
   "cell_type": "code",
   "execution_count": 3,
   "id": "6b4a26f1-fecb-42f8-b499-9739f0d0a1f8",
   "metadata": {},
   "outputs": [
    {
     "name": "stderr",
     "output_type": "stream",
     "text": [
      "\tUnable to completely converge to displaced geometry.\n",
      "\tRMS(dx):  9.342e-07 \tMax(dx):  2.623e-06 \tRMS(dq):  9.224e-07\n",
      "\tUnable to completely converge to displaced geometry.\n",
      "\tRMS(dx):  2.398e-06 \tMax(dx):  7.575e-06 \tRMS(dq):  2.606e-06\n",
      "\tPrevious geometry is closer to target in internal coordinates, so using that one.\n",
      "\n",
      "\tBest geometry has RMS(Delta(q)) = 2.51e-06\n",
      "\n",
      "\tUnable to completely converge to displaced geometry.\n",
      "\tRMS(dx):  4.080e-06 \tMax(dx):  1.371e-05 \tRMS(dq):  6.053e-06\n",
      "\tPrevious geometry is closer to target in internal coordinates, so using that one.\n",
      "\n",
      "\tBest geometry has RMS(Delta(q)) = 3.54e-06\n",
      "\n"
     ]
    },
    {
     "name": "stdout",
     "output_type": "stream",
     "text": [
      "Optimizer: Optimization complete!\n",
      "Optimized SCF Energy: -230.713523542057\n"
     ]
    }
   ],
   "source": [
    "# 优化分子结构\n",
    "optimized_energy = pk.optimize()\n",
    "print(f\"Optimized SCF Energy: {optimized_energy}\")"
   ]
  }
 ],
 "metadata": {
  "kernelspec": {
   "display_name": "Python (myenv)",
   "language": "python",
   "name": "myenv"
  },
  "language_info": {
   "codemirror_mode": {
    "name": "ipython",
    "version": 3
   },
   "file_extension": ".py",
   "mimetype": "text/x-python",
   "name": "python",
   "nbconvert_exporter": "python",
   "pygments_lexer": "ipython3",
   "version": "3.9.18"
  }
 },
 "nbformat": 4,
 "nbformat_minor": 5
}
