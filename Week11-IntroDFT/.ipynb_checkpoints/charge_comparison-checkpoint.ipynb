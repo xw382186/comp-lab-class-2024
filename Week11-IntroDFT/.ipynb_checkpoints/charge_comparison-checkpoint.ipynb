{
 "cells": [
  {
   "cell_type": "code",
   "execution_count": 1,
   "id": "90d051cb-f3e4-4f38-8427-c6e2fc095096",
   "metadata": {},
   "outputs": [
    {
     "name": "stdout",
     "output_type": "stream",
     "text": [
      "\n",
      "  Memory set to  11.176 GiB by Python driver.\n",
      "  Threads set to 1 by Python driver.\n"
     ]
    },
    {
     "name": "stderr",
     "output_type": "stream",
     "text": [
      "\tPrevious geometry is closer to target in internal coordinates, so using that one.\n",
      "\n",
      "\tBest geometry has RMS(Delta(q)) = 6.53e-06\n",
      "\n",
      "\tEnergy ratio indicates iffy step.\n",
      "\tIntrafrag trust radius decreased to   0.25.\n",
      "\tPrevious geometry is closer to target in internal coordinates, so using that one.\n",
      "\n",
      "\tBest geometry has RMS(Delta(q)) = 4.42e-06\n",
      "\n",
      "\tPrevious geometry is closer to target in internal coordinates, so using that one.\n",
      "\n",
      "\tBest geometry has RMS(Delta(q)) = 1.27e-06\n",
      "\n",
      "\tPrevious geometry is closer to target in internal coordinates, so using that one.\n",
      "\n",
      "\tBest geometry has RMS(Delta(q)) = 5.95e-06\n",
      "\n",
      "\tEnergy ratio indicates iffy step.\n",
      "\tIntrafrag trust radius decreased to   0.25.\n",
      "\tPrevious geometry is closer to target in internal coordinates, so using that one.\n",
      "\n",
      "\tBest geometry has RMS(Delta(q)) = 1.11e-05\n",
      "\n",
      "\tEnergy has increased in a minimization.\n",
      "\tEnergy ratio indicates iffy step.\n",
      "\tIntrafrag trust radius decreased to  0.188.\n",
      "\tPrevious geometry is closer to target in internal coordinates, so using that one.\n",
      "\n",
      "\tBest geometry has RMS(Delta(q)) = 1.51e-07\n",
      "\n"
     ]
    },
    {
     "name": "stdout",
     "output_type": "stream",
     "text": [
      "Optimizer: Optimization complete!\n",
      "Optimized SCF Energy: -637.3278656658931\n",
      "please install resp at first\n",
      "conda install -c psi4 resp\n",
      "RESP Charges: None\n",
      "\n",
      "Atom RESP Charges:\n"
     ]
    },
    {
     "ename": "TypeError",
     "evalue": "'NoneType' object is not subscriptable",
     "output_type": "error",
     "traceback": [
      "\u001b[0;31m---------------------------------------------------------------------------\u001b[0m",
      "\u001b[0;31mTypeError\u001b[0m                                 Traceback (most recent call last)",
      "Cell \u001b[0;32mIn[1], line 26\u001b[0m\n\u001b[1;32m     24\u001b[0m \u001b[38;5;28mprint\u001b[39m(\u001b[38;5;124m\"\u001b[39m\u001b[38;5;130;01m\\n\u001b[39;00m\u001b[38;5;124mAtom RESP Charges:\u001b[39m\u001b[38;5;124m\"\u001b[39m)\n\u001b[1;32m     25\u001b[0m \u001b[38;5;28;01mfor\u001b[39;00m i, atom \u001b[38;5;129;01min\u001b[39;00m \u001b[38;5;28menumerate\u001b[39m(pk\u001b[38;5;241m.\u001b[39mmol\u001b[38;5;241m.\u001b[39mGetAtoms()):\n\u001b[0;32m---> 26\u001b[0m     \u001b[38;5;28mprint\u001b[39m(\u001b[38;5;124mf\u001b[39m\u001b[38;5;124m\"\u001b[39m\u001b[38;5;132;01m{\u001b[39;00matom\u001b[38;5;241m.\u001b[39mGetSymbol()\u001b[38;5;132;01m}\u001b[39;00m\u001b[38;5;124m RESP: \u001b[39m\u001b[38;5;132;01m{\u001b[39;00mresp_charges[i]\u001b[38;5;132;01m:\u001b[39;00m\u001b[38;5;124m.2f\u001b[39m\u001b[38;5;132;01m}\u001b[39;00m\u001b[38;5;124m\"\u001b[39m)\n\u001b[1;32m     28\u001b[0m \u001b[38;5;66;03m# 计算 Mulliken 电荷\u001b[39;00m\n\u001b[1;32m     29\u001b[0m mulliken_charges \u001b[38;5;241m=\u001b[39m pk\u001b[38;5;241m.\u001b[39mcalc_mulliken_charges()\n",
      "\u001b[0;31mTypeError\u001b[0m: 'NoneType' object is not subscriptable"
     ]
    }
   ],
   "source": [
    "import os\n",
    "import sys\n",
    "import pandas as pd\n",
    "import numpy as np\n",
    "from rdkit import Chem\n",
    "from rdkit.Chem import Draw\n",
    "from psikit import Psikit\n",
    "\n",
    "# 初始化 Psikit 对象\n",
    "pk = Psikit(debug=True, threads=1, memory=12)\n",
    "\n",
    "# 读取咖啡因的 SMILES 表示\n",
    "pk.read_from_smiles(\"CN1C=NC2=C1C(=O)N(C(=O)N2C)\")\n",
    "\n",
    "# 优化分子结构\n",
    "optimized_energy = pk.optimize()\n",
    "print(f\"Optimized SCF Energy: {optimized_energy}\")\n",
    "\n",
    "# 计算 RESP 电荷\n",
    "resp_charges = pk.calc_resp_charges()\n",
    "if resp_charges is not None:\n",
    "    print(\"\\nAtom RESP Charges:\")\n",
    "    for i, atom in enumerate(pk.mol.GetAtoms()):\n",
    "        print(f\"{atom.GetSymbol()} RESP: {resp_charges[i]:.2f}\")\n",
    "else:\n",
    "    print(\"RESP 电荷计算失败，请确保已安装 resp 工具。\")\n",
    "\n",
    "# 输出每个原子的元素符号及其 RESP 电荷\n",
    "print(\"\\nAtom RESP Charges:\")\n",
    "for i, atom in enumerate(pk.mol.GetAtoms()):\n",
    "    print(f\"{atom.GetSymbol()} RESP: {resp_charges[i]:.2f}\")\n",
    "\n",
    "# 计算 Mulliken 电荷\n",
    "mulliken_charges = pk.calc_mulliken_charges()\n",
    "print(\"\\nMulliken Charges:\", mulliken_charges)\n",
    "\n",
    "# 计算 Lowdin 电荷\n",
    "lowdin_charges = pk.calc_lowdin_charges()\n",
    "print(\"\\nLowdin Charges:\", lowdin_charges)\n",
    "\n",
    "# 显示带有 RESP 电荷的分子结构\n",
    "for i, atom in enumerate(pk.mol.GetAtoms()):\n",
    "    atom.SetProp(\"RESP Charge\", f\"{resp_charges[i]:.2f}\")\n",
    "\n",
    "# 可视化带有 RESP 电荷标记的分子结构\n",
    "Draw.MolToImage(pk.mol, legend=\"RESP Charges\")"
   ]
  }
 ],
 "metadata": {
  "kernelspec": {
   "display_name": "Python (myenv)",
   "language": "python",
   "name": "myenv"
  },
  "language_info": {
   "codemirror_mode": {
    "name": "ipython",
    "version": 3
   },
   "file_extension": ".py",
   "mimetype": "text/x-python",
   "name": "python",
   "nbconvert_exporter": "python",
   "pygments_lexer": "ipython3",
   "version": "3.9.18"
  }
 },
 "nbformat": 4,
 "nbformat_minor": 5
}
