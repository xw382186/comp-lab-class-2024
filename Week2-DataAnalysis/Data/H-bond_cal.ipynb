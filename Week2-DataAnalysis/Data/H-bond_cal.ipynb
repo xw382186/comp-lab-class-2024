{
 "cells": [
  {
   "cell_type": "code",
   "execution_count": 1,
   "id": "86a771bf-ccbd-4043-80cf-5c850c584cb6",
   "metadata": {},
   "outputs": [
    {
     "name": "stdout",
     "output_type": "stream",
     "text": [
      "Total number of hydrogen bonds: 57\n",
      "Number of helical amino acids: 18\n"
     ]
    }
   ],
   "source": [
    "# Import necessary libraries\n",
    "import mdtraj as md\n",
    "\n",
    "# Part a) Read the ubiquitin structure from the PDB file\n",
    "pdb_file = './1UBQ_processed.pdb'  # Replace with your actual path\n",
    "ubiquitin = md.load(pdb_file)\n",
    "\n",
    "# Part b) Print the total number of hydrogen bonds\n",
    "hbonds = md.baker_hubbard(ubiquitin, periodic=False)\n",
    "print(f\"Total number of hydrogen bonds: {len(hbonds)}\")\n",
    "\n",
    "# Part c) Compute the number of helical amino acids\n",
    "# We can use DSSP to calculate secondary structures\n",
    "dssp = md.compute_dssp(ubiquitin)\n",
    "helices = (dssp == 'H').sum()\n",
    "print(f\"Number of helical amino acids: {helices}\")"
   ]
  }
 ],
 "metadata": {
  "kernelspec": {
   "display_name": "lab_env_2024",
   "language": "python",
   "name": "lab_env_2024"
  },
  "language_info": {
   "codemirror_mode": {
    "name": "ipython",
    "version": 3
   },
   "file_extension": ".py",
   "mimetype": "text/x-python",
   "name": "python",
   "nbconvert_exporter": "python",
   "pygments_lexer": "ipython3",
   "version": "3.9.12"
  }
 },
 "nbformat": 4,
 "nbformat_minor": 5
}
